{
 "cells": [
  {
   "cell_type": "code",
   "execution_count": 3,
   "id": "256a06e8-5c19-493f-b597-b21467b7d585",
   "metadata": {},
   "outputs": [
    {
     "name": "stdout",
     "output_type": "stream",
     "text": [
      "root\n",
      " |-- InvoiceNo: long (nullable = true)\n",
      " |-- StockCode: long (nullable = true)\n",
      " |-- Description: string (nullable = true)\n",
      " |-- Quantity: long (nullable = true)\n",
      " |-- InvoiceDate: string (nullable = true)\n",
      " |-- UnitPrice: double (nullable = true)\n",
      " |-- CustomerID: long (nullable = true)\n",
      " |-- Country: string (nullable = true)\n",
      "\n",
      "+---------+---------+--------------------+--------+--------------+---------+----------+--------------+\n",
      "|InvoiceNo|StockCode|         Description|Quantity|   InvoiceDate|UnitPrice|CustomerID|       Country|\n",
      "+---------+---------+--------------------+--------+--------------+---------+----------+--------------+\n",
      "|   536369|    21756|BATH BUILDING BLO...|       3|12/1/2010 8:35|     5.95|     13047|United Kingdom|\n",
      "|   536365|    85123|WHITE HANGING HEA...|       6|12/1/2010 8:26|     2.55|     17850|United Kingdom|\n",
      "|   536365|    71053| WHITE METAL LANTERN|       6|12/1/2010 8:26|     3.39|     17850|United Kingdom|\n",
      "|   536370|    21035|SET/2 RED RETROSP...|      18|12/1/2010 8:45|     2.95|     12583|        France|\n",
      "+---------+---------+--------------------+--------+--------------+---------+----------+--------------+\n",
      "only showing top 4 rows\n",
      "\n"
     ]
    }
   ],
   "source": [
    "from pyspark.sql import SparkSession\n",
    "from pyspark import SparkConf\n",
    "\n",
    "sparkConf = SparkConf()\n",
    "sparkConf.setMaster(\"spark://spark-master:7077\")\n",
    "sparkConf.setAppName(\"BigqueryExample\")\n",
    "sparkConf.set(\"spark.driver.memory\", \"2g\")\n",
    "sparkConf.set(\"spark.executor.cores\", \"1\")\n",
    "sparkConf.set(\"spark.driver.cores\", \"1\")\n",
    "# create the spark session, which is the entry point to Spark SQL engine.\n",
    "spark = SparkSession.builder.config(conf=sparkConf).getOrCreate()\n",
    "# Load data from BigQuery.\n",
    "df = spark.read \\\n",
    "  .format(\"bigquery\") \\\n",
    "  .load(\"de2022-362409.labdataset.retaildata\")    # project_id.datatset.tablename. Use your project id\n",
    "df.printSchema()\n",
    "df.show(4)"
   ]
  },
  {
   "cell_type": "code",
   "execution_count": 5,
   "id": "fcc8360b-27dc-41b8-95ac-04de84b4f3fa",
   "metadata": {},
   "outputs": [
    {
     "name": "stdout",
     "output_type": "stream",
     "text": [
      "+---------+\n",
      "|     word|\n",
      "+---------+\n",
      "|    SET/2|\n",
      "|      RED|\n",
      "|RETROSPOT|\n",
      "|      TEA|\n",
      "|   TOWELS|\n",
      "|    ROUND|\n",
      "|    SNACK|\n",
      "|    BOXES|\n",
      "|      SET|\n",
      "|      OF4|\n",
      "+---------+\n",
      "only showing top 10 rows\n",
      "\n",
      "+---------+-----+\n",
      "|     word|count|\n",
      "+---------+-----+\n",
      "|      BOX|    1|\n",
      "|      RED|    1|\n",
      "|      TEA|    1|\n",
      "|      OF4|    1|\n",
      "|    SNACK|    1|\n",
      "| WOODLAND|    1|\n",
      "|    TAILS|    1|\n",
      "|     CARD|    1|\n",
      "|    ROUND|    1|\n",
      "|    SET/2|    1|\n",
      "|    LUNCH|    1|\n",
      "|      SET|    1|\n",
      "|   CIRCUS|    1|\n",
      "|      AND|    1|\n",
      "|     GAME|    1|\n",
      "|   PARADE|    1|\n",
      "|    BOXES|    1|\n",
      "|  VINTAGE|    1|\n",
      "|    HEADS|    1|\n",
      "|RETROSPOT|    1|\n",
      "|   TOWELS|    1|\n",
      "+---------+-----+\n",
      "\n"
     ]
    }
   ],
   "source": [
    "from pyspark.sql.functions import explode, split, concat, col, lit, desc\n",
    "\n",
    "words = df.where(df.Country == \"France\").select(\n",
    "            explode(\n",
    "                split(col(\"Description\"), \" \")\n",
    "            ).alias(\"word\")\n",
    "        )\n",
    "words.show(10)\n",
    "\n",
    "ordered_word_count = words.groupby(words.word).count().orderBy(col(\"count\").desc())\n",
    "ordered_word_count.show(100)"
   ]
  },
  {
   "cell_type": "code",
   "execution_count": 6,
   "id": "5d6d4994-cdb2-4870-ae2e-0bb64da9a469",
   "metadata": {},
   "outputs": [],
   "source": [
    "# Use the Cloud Storage bucket for temporary BigQuery export data used by the connector.\n",
    "bucket = \"de_jads_temp\"  # use your bucket \n",
    "spark.conf.set('temporaryGcsBucket', bucket)\n",
    "# Setup hadoop fs configuration for schema gs://\n",
    "conf = spark.sparkContext._jsc.hadoopConfiguration()\n",
    "conf.set(\"fs.gs.impl\", \"com.google.cloud.hadoop.fs.gcs.GoogleHadoopFileSystem\")\n",
    "conf.set(\"fs.AbstractFileSystem.gs.impl\", \"com.google.cloud.hadoop.fs.gcs.GoogleHadoopFS\")\n",
    "# Saving the data to BigQuery\n",
    "ordered_word_count.write.format('bigquery') \\\n",
    "  .option('table', 'de2022-362409.labdataset.wordcounts') \\\n",
    "  .mode(\"append\") \\\n",
    "  .save()"
   ]
  },
  {
   "cell_type": "code",
   "execution_count": 7,
   "id": "aa621131-26cb-48a8-8f6b-6e01934395ae",
   "metadata": {},
   "outputs": [],
   "source": [
    "# Stop the spark context\n",
    "spark.stop()"
   ]
  }
 ],
 "metadata": {
  "kernelspec": {
   "display_name": "Python 3 (ipykernel)",
   "language": "python",
   "name": "python3"
  },
  "language_info": {
   "codemirror_mode": {
    "name": "ipython",
    "version": 3
   },
   "file_extension": ".py",
   "mimetype": "text/x-python",
   "name": "python",
   "nbconvert_exporter": "python",
   "pygments_lexer": "ipython3",
   "version": "3.10.6"
  }
 },
 "nbformat": 4,
 "nbformat_minor": 5
}
